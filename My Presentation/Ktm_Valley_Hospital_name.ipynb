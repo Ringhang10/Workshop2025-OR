{
 "cells": [
  {
   "cell_type": "markdown",
   "id": "23bec96a",
   "metadata": {},
   "source": [
    "```\n",
    "| Hospital Name                          | Latitude | Longitude | City        |\n",
    "|------------------------------------------|----------|-----------|-------------|\n",
    "| Bir Hospital                             | 27.7011  | 85.3149   | Kathmandu   |\n",
    "| Tribhuvan University Teaching Hospital | 27.7181  | 85.3216   | Kathmandu   |\n",
    "| Grande International Hospital           | 27.7126  | 85.3268   | Kathmandu   |\n",
    "| Norvic International Hospital           | 27.7056  | 85.3093   | Kathmandu   |\n",
    "| Civil Service Hospital                  | 27.6975  | 85.3204   | Kathmandu   |\n",
    "| Om Hospital & Research Centre           | 27.7032  | 85.3129   | Kathmandu   |\n",
    "| Shree Birendra Army Hospital           | 27.7144  | 85.3346   | Kathmandu   |\n",
    "| Nepal Eye Hospital                      | 27.7120  | 85.3179   | Kathmandu   |\n",
    "| HAMS Hospital                            | 27.7214  | 85.3101   | Kathmandu   |\n",
    "| Armed Police Force Hospital              | 27.7077  | 85.3045   | Kathmandu   |\n",
    "| Stupa Community Hospital                  | 27.7262  | 85.3364   | Kathmandu   |\n",
    "| Shree Marwari Hospital                  | 27.7001  | 85.3117   | Kathmandu   |\n",
    "| Blue Cross Hospital                      | 27.7046  | 85.3115   | Kathmandu   |\n",
    "| Venus Hospital                           | 27.7033  | 85.3175   | Kathmandu   |\n",
    "| Patan Hospital                           | 27.6713  | 85.3217   | Lalitpur    |\n",
    "| B & B Hospital                           | 27.6792  | 85.3155   | Lalitpur    |\n",
    "| Nepal Mediciti Hospital                  | 27.6711  | 85.2758   | Lalitpur    |\n",
    "| Alka Hospital                            | 27.6738  | 85.3168   | Lalitpur    |\n",
    "| Star Hospital                            | 27.6750  | 85.3145   | Lalitpur    |\n",
    "| Bhaktapur Cancer Hospital                | 27.6698  | 85.4222   | Bhaktapur   |\n",
    "| Human Organ Transplant Centre           | 27.6689  | 85.4221   | Bhaktapur   |\n",
    "| Bhaktapur Hospital                       | 27.6717  | 85.4262   | Bhaktapur   |\n",
    "```\n"
   ]
  },
  {
   "cell_type": "code",
   "execution_count": null,
   "id": "a0bf1ca9",
   "metadata": {},
   "outputs": [],
   "source": []
  }
 ],
 "metadata": {
  "kernelspec": {
   "display_name": "Python 3 (ipykernel)",
   "language": "python",
   "name": "python3"
  },
  "language_info": {
   "codemirror_mode": {
    "name": "ipython",
    "version": 3
   },
   "file_extension": ".py",
   "mimetype": "text/x-python",
   "name": "python",
   "nbconvert_exporter": "python",
   "pygments_lexer": "ipython3",
   "version": "3.9.5"
  }
 },
 "nbformat": 4,
 "nbformat_minor": 5
}
