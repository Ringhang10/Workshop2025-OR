{
 "cells": [
  {
   "cell_type": "markdown",
   "id": "b8a59f26-431b-4ea3-a48f-dcf84f0d212d",
   "metadata": {},
   "source": [
    "# Practice Notebook\n",
    "\n",
    "Dear participants,\n",
    "\n",
    "Welcome to your practice notebook! This is your opportunity to reinforce the basic python steps that you learned during the first part of this course. Next week, we will spend more time practicing the implementation of larger models that can be applied to health care problems.\n",
    "\n",
    "While solutions are provided, I encourage you to challenge yourself: try to solve each task on your own before peeking! Use this notebook to experiment, explore, and build confidence in using Python, Pandas, plotting, and SCIP.\n",
    "\n",
    "Happy coding!"
   ]
  },
  {
   "cell_type": "markdown",
   "id": "c4892937-0f4a-4d84-9e58-80537e45338f",
   "metadata": {},
   "source": [
    "## Task 1: Basic Python Practice\n",
    "\n",
    "Let's begin with some simple Python exercises to warm up.\n",
    "\n",
    "### ✏️ Subtask 1: Celsius to Fahrenheit\n",
    "Write a function that takes a temperature in Celsius and returns the temperature in Fahrenheit.\n",
    "\n",
    "**Formula:**\n",
    "$$ \\text{Fahrenheit} = \\text{Celsius} \\times \\frac{9}{5} + 32 $$\n",
    "\n",
    "Name your function **celsius_to_fahrenheit**."
   ]
  },
  {
   "cell_type": "code",
   "execution_count": null,
   "id": "7f370c3f-3801-47ea-9a07-951b5bf8fe94",
   "metadata": {},
   "outputs": [],
   "source": [
    "# Code Cell (Subtask 1: Celsius to Fahrenheit)\n",
    "\n",
    "# Remember, you need to define a function and add a return statement!\n",
    "\n",
    "# Test your function with the code below\n",
    "print(\"25°C in Fahrenheit:\", celsius_to_fahrenheit(25))\n",
    "# If everything is implemented correctly, the result should be 77.0 Fahrenheit."
   ]
  },
  {
   "cell_type": "markdown",
   "id": "72fadb57-9b9f-423b-9498-8cc3e7ca091c",
   "metadata": {},
   "source": [
    "### ✏️ Subtask 2: Looping Through Numbers\n",
    "Create a list of numbers from 1 to 1000 and print only the numbers that have an integer root. Use the function **sqrt** from the package **math** to compute the square roots."
   ]
  },
  {
   "cell_type": "code",
   "execution_count": null,
   "id": "2a725797-ea01-455d-8473-8b7baa34bf98",
   "metadata": {},
   "outputs": [],
   "source": [
    "# ✅ Code Cell (Subtask 2: Print Square Numbers from 1 to 1000)\n"
   ]
  },
  {
   "cell_type": "markdown",
   "id": "2eba3d95-ad9d-4096-860e-53d2258ed0c7",
   "metadata": {},
   "source": [
    "## Task 2: Dictionaries and DataFrames\n",
    "Let's practice converting a dictionary into a Pandas DataFrame.\n",
    "\n",
    "Below is the country data we will use:\n",
    "\n",
    "| Country      | Population (M) | GDP (Billion USD) |\n",
    "|--------------|----------------|--------------------|\n",
    "| Germany      | 83             | 4200               |\n",
    "| Nepal        | 30             | 40                 |\n",
    "| Japan        | 126            | 5000               |\n",
    "| Brazil       | 212            | 1800               |\n",
    "| Canada       | 38             | 2000               |\n",
    "\n",
    "### ✏️ Task:\n",
    "1. Create a **nested dictionary** named `country_data` where each **country name** is a key, and the value is another dictionary with `Population` and `GDP`.\n",
    "2. Convert this dictionary into a Pandas DataFrame.\n",
    "3. Display the resulting DataFrame.\n",
    "\n",
    "This will help us prepare for plotting and analyzing data in the next task. Remember to import **pandas** before creating the DataFrame. "
   ]
  },
  {
   "cell_type": "code",
   "execution_count": null,
   "id": "e71a995e-4f81-4ed6-9e1f-ee3c88e606ba",
   "metadata": {},
   "outputs": [],
   "source": [
    "# ✅ Code Cell (Create Dataframe)\n",
    "\n"
   ]
  },
  {
   "cell_type": "markdown",
   "id": "3afd1411-3708-4f53-b43b-72e39e0229f4",
   "metadata": {},
   "source": [
    "## Task 3: DataFrame Analysis and Plotting\n",
    "\n",
    "Now that we have a DataFrame, let's compute some new information and visualize it.\n",
    "\n",
    "### ✏️ Task:\n",
    "1. Add a new column called `GDP_per_capita` to the DataFrame (in thousand USD).\n",
    "   - 💡 Formula: `GDP / Population * 1000`\n",
    "2. Sort the DataFrame by `GDP_per_capita` in descending order.\n",
    "3. Plot a **bar chart** of GDP per capita for all countries.\n",
    "\n",
    "Use **matplotlib** or **seaborn** to create the chart."
   ]
  },
  {
   "cell_type": "code",
   "execution_count": null,
   "id": "145f4d06-5fdd-436b-bfb3-ed6bde11771d",
   "metadata": {},
   "outputs": [],
   "source": [
    "# ✅ Code Cell (Analyze and Plot GDP per Capita)\n",
    "\n"
   ]
  },
  {
   "cell_type": "markdown",
   "id": "cf9cc0c0-073c-47e3-b086-5196d6707279",
   "metadata": {},
   "source": [
    "## Task 4: Implementing and Solving a SCIP Model\n",
    "\n",
    "In this task, you'll write and solve a small linear optimization problem using SCIP.\n",
    "\n",
    "### ✏️ Problem:\n",
    "You run a small production facility that can produce two products: **Product 1** and **Product 2**.\n",
    "- Each unit of Product 1 gives a profit of 3.\n",
    "- Each unit of Product 2 gives a profit of 5.\n",
    "- Producing one unit of Product 1 requires 1 hour, and Product 2 requires 2 hours.\n",
    "- You have 8 hours available in total.\n",
    "\n",
    "### 🔍 Goal:\n",
    "Maximize the total profit under the time constraint.\n",
    "\n",
    "### 🧮 Mathematical Model:\n",
    "\n",
    "\\begin{align*}\n",
    "\\text{Maximize} \\quad & 3x_1 + 5x_2 \\\\\n",
    "\\text{subject to} \\quad & x_1 + 2x_2 \\leq 8 \\\\\n",
    "& x_1 \\geq 0, \\quad x_2 \\geq 0\n",
    "\\end{align*}\n",
    "\n",
    "\n",
    "Where:\n",
    "- \\( x_1 \\): number of units of **Product 1**\n",
    "- \\( x_2 \\): number of units of **Product 2**\n",
    "\n",
    "### ❗ Reminder:\n",
    "- Both variables must be non-negative.\n",
    "- You can use real numbers (no integer restriction).\n",
    "\n",
    "### 🛠️ Steps:\n",
    "1. Import the Model class from PySCIPOpt.\n",
    "2. Create a new SCIP model.\n",
    "3. Define decision variables.\n",
    "4. Add the constraint: $$ 1 \\cdot x_1 + 2 \\cdot x_2 \\leq 8 $$\n",
    "5. Add the objective: $$ 3 \\cdot x_1 + 5 \\cdot x_2 \\to \\text{max} $$\n",
    "6. Solve and print the optimal production plan."
   ]
  },
  {
   "cell_type": "code",
   "execution_count": null,
   "id": "7582a5da-830a-41e4-9220-d965fbe37051",
   "metadata": {},
   "outputs": [],
   "source": [
    "# ✅ Code Cell (SCIP Linear Model with Line-by-Line Explanation)\n"
   ]
  },
  {
   "cell_type": "code",
   "execution_count": null,
   "id": "27fb0827-c374-4f96-b24d-a4cd557a501e",
   "metadata": {},
   "outputs": [],
   "source": []
  }
 ],
 "metadata": {
  "kernelspec": {
   "display_name": "Python 3 (ipykernel)",
   "language": "python",
   "name": "python3"
  },
  "language_info": {
   "codemirror_mode": {
    "name": "ipython",
    "version": 3
   },
   "file_extension": ".py",
   "mimetype": "text/x-python",
   "name": "python",
   "nbconvert_exporter": "python",
   "pygments_lexer": "ipython3",
   "version": "3.9.5"
  }
 },
 "nbformat": 4,
 "nbformat_minor": 5
}
